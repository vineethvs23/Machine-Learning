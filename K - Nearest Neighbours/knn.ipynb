{
 "cells": [
  {
   "cell_type": "code",
   "execution_count": 2,
   "metadata": {},
   "outputs": [],
   "source": [
    "import numpy as np\n",
    "import pandas as pd\n",
    "from sklearn.datasets import load_wine \n",
    "from sklearn import metrics\n",
    "from sklearn.ensemble import ExtraTreesClassifier\n",
    "import matplotlib.pyplot as plt\n",
    "from sklearn.model_selection import train_test_split\n",
    "\n",
    "%matplotlib inline"
   ]
  },
  {
   "cell_type": "code",
   "execution_count": 25,
   "metadata": {},
   "outputs": [
    {
     "data": {
      "text/plain": [
       "ExtraTreesClassifier(bootstrap=False, class_weight=None, criterion='gini',\n",
       "           max_depth=None, max_features='auto', max_leaf_nodes=None,\n",
       "           min_impurity_decrease=0.0, min_impurity_split=None,\n",
       "           min_samples_leaf=1, min_samples_split=2,\n",
       "           min_weight_fraction_leaf=0.0, n_estimators=10, n_jobs=1,\n",
       "           oob_score=False, random_state=None, verbose=0, warm_start=False)"
      ]
     },
     "execution_count": 25,
     "metadata": {},
     "output_type": "execute_result"
    }
   ],
   "source": [
    "wine = load_wine()\n",
    "model = ExtraTreesClassifier()\n",
    "model.fit(wine.data,wine.target)"
   ]
  },
  {
   "cell_type": "code",
   "execution_count": null,
   "metadata": {},
   "outputs": [],
   "source": []
  },
  {
   "cell_type": "code",
   "execution_count": 4,
   "metadata": {},
   "outputs": [],
   "source": [
    "features = pd.DataFrame(wine.data,columns=wine.feature_names)\n",
    "target = pd.DataFrame(wine.target, columns=[\"TARGET\"])"
   ]
  },
  {
   "cell_type": "code",
   "execution_count": 5,
   "metadata": {},
   "outputs": [],
   "source": [
    "data = pd.concat([features, target], axis=1)"
   ]
  },
  {
   "cell_type": "code",
   "execution_count": 6,
   "metadata": {},
   "outputs": [],
   "source": [
    "x_train, x_test, y_train,y_test = train_test_split(features,target,test_size=0.3)"
   ]
  },
  {
   "cell_type": "code",
   "execution_count": 8,
   "metadata": {},
   "outputs": [],
   "source": [
    "x = x_train[['alcohol', 'hue']]\n",
    "y = y_train['TARGET']\n",
    "\n",
    "x2 = x_test[['alcohol', 'hue']]\n",
    "x2 = np.array(x2) \n"
   ]
  },
  {
   "cell_type": "code",
   "execution_count": 9,
   "metadata": {},
   "outputs": [
    {
     "data": {
      "text/plain": [
       "<matplotlib.collections.PathCollection at 0x1803166b518>"
      ]
     },
     "execution_count": 9,
     "metadata": {},
     "output_type": "execute_result"
    },
    {
     "data": {
      "image/png": "[encoded data removed]",
      "text/plain": [
       "<Figure size 432x288 with 1 Axes>"
      ]
     },
     "metadata": {},
     "output_type": "display_data"
    }
   ],
   "source": [
    "plt.scatter(x.iloc[:,0], x.iloc[:,1],c=y)"
   ]
  },
  {
   "cell_type": "code",
   "execution_count": 10,
   "metadata": {},
   "outputs": [],
   "source": [
    "x_train = np.array(x)\n",
    "y_train = np.array(y)"
   ]
  },
  {
   "cell_type": "code",
   "execution_count": 11,
   "metadata": {},
   "outputs": [],
   "source": [
    "def distance(point,x,y):\n",
    "    dist = np.sqrt((np.power((x[0]- point[0]),2)) + (np.power((x[1]- point[1]),2)))\n",
    "    return [dist,y]\n",
    "    "
   ]
  },
  {
   "cell_type": "code",
   "execution_count": 24,
   "metadata": {},
   "outputs": [],
   "source": [
    "def find_nearest(point,x_train,y_train,k):\n",
    "    dist_list = []\n",
    "    for i in range(len(x_train)):\n",
    "        dist_list.append(distance(point,x_train[i],y_train[i]))\n",
    "    dist_list.sort()\n",
    "    return dist_list[:k]\n",
    "        \n",
    "        \n",
    "    "
   ]
  },
  {
   "cell_type": "code",
   "execution_count": 27,
   "metadata": {},
   "outputs": [],
   "source": [
    "def predict(point,x_train,y_train):\n",
    "    final_list = []\n",
    "    final_list = find_nearest(point,x_train,y_train,k=11)\n",
    "    class_list = []\n",
    "    for i in final_list:\n",
    "        class_list.append(i[1])\n",
    "    print(point,class_list)\n",
    "            "
   ]
  },
  {
   "cell_type": "code",
   "execution_count": 28,
   "metadata": {},
   "outputs": [
    {
     "name": "stdout",
     "output_type": "stream",
     "text": [
      "[11.76  1.23] [1, 1, 1, 1, 1, 1, 1, 1, 1, 1, 1]\n",
      "[13.9   0.91] [0, 0, 0, 0, 0, 0, 0, 2, 0, 0, 0]\n",
      "[14.06  1.06] [0, 0, 0, 0, 0, 0, 0, 0, 0, 0, 0]\n",
      "[13.73  0.78] [2, 0, 0, 2, 2, 2, 0, 0, 0, 0, 2]\n",
      "[12.17  1.45] [1, 1, 1, 1, 1, 1, 1, 1, 1, 1, 1]\n",
      "[13.83  1.13] [0, 0, 0, 0, 0, 0, 0, 0, 0, 1, 0]\n",
      "[12.33  1.06] [1, 1, 1, 1, 1, 1, 1, 1, 1, 1, 1]\n",
      "[12.45  0.67] [2, 2, 2, 1, 1, 2, 2, 1, 1, 2, 2]\n",
      "[13.32  0.55] [2, 2, 2, 2, 2, 2, 2, 2, 2, 2, 0]\n",
      "[14.38  1.2 ] [0, 0, 0, 0, 0, 0, 0, 0, 0, 0, 1]\n",
      "[12.43  0.69] [2, 1, 2, 1, 2, 2, 2, 1, 1, 2, 1]\n",
      "[13.08  0.57] [2, 2, 2, 2, 2, 1, 2, 2, 2, 1, 2]\n",
      "[11.41  1.1 ] [1, 1, 1, 1, 1, 1, 1, 1, 1, 1, 1]\n",
      "[12.08  1.31] [1, 1, 1, 1, 1, 1, 1, 1, 1, 1, 1]\n",
      "[12.36  0.56] [2, 2, 2, 1, 2, 2, 1, 2, 1, 1, 1]\n",
      "[13.11  1.12] [0, 0, 0, 0, 1, 0, 0, 0, 0, 1, 0]\n",
      "[12.29   0.906] [1, 1, 1, 1, 1, 1, 2, 1, 1, 1, 1]\n",
      "[14.37  0.86] [0, 0, 0, 0, 2, 2, 0, 2, 0, 0, 0]\n",
      "[13.28  1.09] [0, 0, 0, 0, 0, 0, 0, 0, 0, 0, 0]\n",
      "[13.84  0.57] [2, 2, 2, 2, 2, 0, 2, 2, 0, 2, 0]\n",
      "[12.21  1.28] [1, 1, 1, 1, 1, 1, 1, 1, 1, 1, 1]\n",
      "[12.    1.38] [1, 1, 1, 1, 1, 1, 1, 1, 1, 1, 1]\n",
      "[13.34  1.02] [0, 0, 0, 0, 0, 0, 0, 1, 0, 0, 2]\n",
      "[11.65  1.36] [1, 1, 1, 1, 1, 1, 1, 1, 1, 1, 1]\n",
      "[13.71  1.11] [0, 0, 0, 1, 0, 0, 0, 0, 0, 0, 0]\n",
      "[11.84  0.96] [1, 1, 1, 1, 1, 1, 1, 1, 1, 1, 1]\n",
      "[12.16  1.33] [1, 1, 1, 1, 1, 1, 1, 1, 1, 1, 1]\n",
      "[13.11  0.61] [2, 2, 2, 2, 1, 2, 2, 1, 2, 0, 2]\n",
      "[12.85  1.09] [1, 1, 2, 0, 0, 0, 1, 1, 2, 1, 1]\n",
      "[13.68  1.23] [1, 0, 0, 0, 0, 0, 0, 0, 0, 0, 1]\n",
      "[12.93  1.03] [0, 0, 0, 2, 2, 1, 0, 1, 0, 1, 1]\n",
      "[14.22  0.89] [0, 0, 0, 0, 0, 0, 2, 2, 0, 0, 2]\n",
      "[13.49  0.81] [2, 2, 0, 2, 0, 0, 2, 2, 1, 2, 0]\n",
      "[14.83  1.08] [0, 0, 0, 0, 0, 2, 0, 0, 0, 2, 2]\n",
      "[11.61  0.96] [1, 1, 1, 1, 1, 1, 1, 1, 1, 1, 1]\n",
      "[14.12  1.17] [0, 0, 0, 0, 0, 0, 0, 0, 0, 0, 0]\n",
      "[12.88  0.74] [2, 2, 2, 2, 1, 2, 2, 1, 2, 1, 2]\n",
      "[14.21  0.87] [0, 0, 0, 0, 0, 2, 0, 2, 2, 0, 0]\n",
      "[12.6   1.04] [1, 1, 1, 1, 1, 1, 1, 1, 1, 1, 1]\n",
      "[13.69  0.96] [0, 0, 0, 2, 0, 0, 0, 0, 0, 0, 1]\n",
      "[13.51  1.1 ] [0, 0, 0, 1, 0, 0, 1, 0, 0, 0, 2]\n",
      "[14.75  1.25] [0, 0, 0, 0, 0, 0, 0, 0, 2, 0, 2]\n",
      "[14.02  1.04] [0, 0, 0, 0, 0, 0, 0, 0, 0, 0, 0]\n",
      "[12.42  0.92] [1, 1, 1, 1, 1, 1, 1, 2, 1, 1, 2]\n",
      "[14.39  1.02] [0, 0, 0, 0, 0, 0, 0, 0, 2, 0, 2]\n",
      "[13.56  0.98] [0, 1, 0, 2, 0, 0, 0, 0, 2, 0, 0]\n",
      "[11.82  0.95] [1, 1, 1, 1, 1, 1, 1, 1, 1, 1, 1]\n",
      "[14.38  1.04] [0, 0, 0, 0, 0, 0, 0, 0, 0, 2, 2]\n",
      "[13.07  1.18] [1, 0, 0, 0, 1, 0, 0, 0, 0, 0, 0]\n",
      "[12.58  0.58] [2, 2, 2, 1, 2, 2, 2, 2, 2, 2, 1]\n",
      "[13.52  0.89] [0, 2, 1, 2, 0, 0, 0, 0, 2, 0, 0]\n",
      "[11.62  1.16] [1, 1, 1, 1, 1, 1, 1, 1, 1, 1, 1]\n",
      "[12.29  1.15] [1, 1, 1, 1, 1, 1, 1, 1, 1, 1, 1]\n",
      "[12.86  0.76] [2, 2, 1, 2, 2, 2, 2, 2, 1, 1, 1]\n"
     ]
    }
   ],
   "source": [
    "\n",
    "for i in x2:\n",
    "    predict(i,x_train,y_train)"
   ]
  },
  {
   "cell_type": "code",
   "execution_count": null,
   "metadata": {},
   "outputs": [],
   "source": []
  },
  {
   "cell_type": "code",
   "execution_count": null,
   "metadata": {},
   "outputs": [],
   "source": [
    "def accuracy():\n",
    "    "
   ]
  }
 ],
 "metadata": {
  "kernelspec": {
   "display_name": "Python 3",
   "language": "python",
   "name": "python3"
  },
  "language_info": {
   "codemirror_mode": {
    "name": "ipython",
    "version": 3
   },
   "file_extension": ".py",
   "mimetype": "text/x-python",
   "name": "python",
   "nbconvert_exporter": "python",
   "pygments_lexer": "ipython3",
   "version": "3.7.1"
  }
 },
 "nbformat": 4,
 "nbformat_minor": 2
}

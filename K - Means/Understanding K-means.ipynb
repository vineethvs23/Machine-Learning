{
 "cells": [
  {
   "cell_type": "code",
   "execution_count": 1,
   "metadata": {},
   "outputs": [],
   "source": [
    "import numpy as np\n",
    "import matplotlib.pyplot as plt\n",
    "import pandas as pd\n",
    "\n",
    "%matplotlib inline"
   ]
  },
  {
   "cell_type": "code",
   "execution_count": 2,
   "metadata": {},
   "outputs": [],
   "source": [
    "k = 2\n",
    "cent_change = 0.0001\n",
    "max_iter = 300 "
   ]
  },
  {
   "cell_type": "code",
   "execution_count": 3,
   "metadata": {},
   "outputs": [],
   "source": [
    "colors = 3 * [\"g\",'r','c','b','k','y']"
   ]
  },
  {
   "cell_type": "code",
   "execution_count": 45,
   "metadata": {},
   "outputs": [],
   "source": [
    "def fit(data, k, max_iter, tol):\n",
    "    \n",
    "    centroids = {}\n",
    "\n",
    "    for i in range(k):\n",
    "        centroids[i] = data[i]\n",
    "\n",
    "    for i in range(max_iter): \n",
    "        classifications = {}\n",
    "        \n",
    "        for i in range(k):\n",
    "            classifications[i] = []\n",
    "            \n",
    "        for featureset in data:\n",
    "            distances = [np.linalg.norm(featureset - centroids[centroid]) for centroid in centroids]\n",
    "#             for centroid in centroids:\n",
    "#                 distances.append(np.linalg.norm(featureset - centroids[centroid]))\n",
    "            classification = distances.index(min(distances))\n",
    "            classifications[classification].append(featureset)\n",
    "            \n",
    "        prev_centroids = dict(centroids)\n",
    "        \n",
    "        for classification in classifications:\n",
    "            centroids[classification] = np.average(classifications[classification],axis = 0)\n",
    "        \n",
    "        optimized = True\n",
    "        \n",
    "        for c in centroids:\n",
    "            original_centroid = prev_centroids[c]\n",
    "            current_centroid = centroids[c]\n",
    "            \n",
    "            if np.sum((current_centroid - original_centroid)/original_centroid*100.0) > tol:\n",
    "                optimzed = False\n",
    "        \n",
    "        if optimized == True:\n",
    "            break\n",
    "    \n",
    "    return centroids, classifications\n",
    "            "
   ]
  },
  {
   "cell_type": "code",
   "execution_count": 56,
   "metadata": {},
   "outputs": [],
   "source": [
    "def predict(data, centroids):\n",
    "    distances = [np.linalg.norm(data - centroids[centroid]) for centroid in centroids]\n",
    "    classification = distances.index(min(distances))\n",
    "    return classification"
   ]
  },
  {
   "cell_type": "code",
   "execution_count": 57,
   "metadata": {},
   "outputs": [],
   "source": [
    "X = np.array([[1.7,1.8],\n",
    "             [1.5,2],\n",
    "             [2,2.3],\n",
    "             [6,6.7],\n",
    "             [6,8],\n",
    "             [6.5,9]])"
   ]
  },
  {
   "cell_type": "code",
   "execution_count": 58,
   "metadata": {},
   "outputs": [
    {
     "data": {
      "text/plain": [
       "<matplotlib.collections.PathCollection at 0x1610c7b0f98>"
      ]
     },
     "execution_count": 58,
     "metadata": {},
     "output_type": "execute_result"
    },
    {
     "data": {
      "image/png": "[encoded data removed]",
      "text/plain": [
       "<Figure size 432x288 with 1 Axes>"
      ]
     },
     "metadata": {
      "needs_background": "light"
     },
     "output_type": "display_data"
    }
   ],
   "source": [
    "plt.scatter(X[:,0],X[:,1],s=100)"
   ]
  },
  {
   "cell_type": "code",
   "execution_count": 59,
   "metadata": {},
   "outputs": [],
   "source": [
    "centroids , classifications = fit(X,k,max_iter,cent_change)"
   ]
  },
  {
   "cell_type": "code",
   "execution_count": 60,
   "metadata": {},
   "outputs": [
    {
     "data": {
      "text/plain": [
       "{0: array([1.85, 2.05]), 1: array([5.   , 6.425])}"
      ]
     },
     "execution_count": 60,
     "metadata": {},
     "output_type": "execute_result"
    }
   ],
   "source": [
    "centroids"
   ]
  },
  {
   "cell_type": "code",
   "execution_count": 61,
   "metadata": {},
   "outputs": [
    {
     "data": {
      "text/plain": [
       "{0: [array([1.7, 1.8]), array([2. , 2.3])],\n",
       " 1: [array([1.5, 2. ]), array([6. , 6.7]), array([6., 8.]), array([6.5, 9. ])]}"
      ]
     },
     "execution_count": 61,
     "metadata": {},
     "output_type": "execute_result"
    }
   ],
   "source": [
    "classifications"
   ]
  },
  {
   "cell_type": "code",
   "execution_count": 62,
   "metadata": {},
   "outputs": [
    {
     "data": {
      "image/png": "[encoded data removed]",
      "text/plain": [
       "<Figure size 432x288 with 1 Axes>"
      ]
     },
     "metadata": {
      "needs_background": "light"
     },
     "output_type": "display_data"
    }
   ],
   "source": [
    "for class_1 in centroids:\n",
    "    plt.scatter(centroids[class_1][0], centroids[class_1][1], marker = \"o\", color = \"k\",s = 50)\n",
    "    \n",
    "for class_2 in classifications:\n",
    "    \n",
    "    for featureset in classifications[class_2]:\n",
    "        plt.scatter(featureset[0], featureset[1],marker = \".\", s = 50)\n",
    "        \n",
    "X_test = np.array([[1,3],[8,9],[0,3],[5,4],[6,4]])\n",
    "\n",
    "for test in X_test:\n",
    "    classification = predict(test , centroids)\n",
    "    plt.scatter(test[0],test[1],marker=\"*\")"
   ]
  },
  {
   "cell_type": "code",
   "execution_count": 63,
   "metadata": {},
   "outputs": [],
   "source": [
    "from sklearn.datasets import load_wine\n",
    "\n",
    "from sklearn.model_selection import train_test_split"
   ]
  },
  {
   "cell_type": "code",
   "execution_count": 64,
   "metadata": {},
   "outputs": [],
   "source": [
    "wine = load_wine()\n",
    "X = pd.DataFrame(wine.data , columns = wine.feature_names)\n",
    "X = (X - X.min()/(X.max() - X.min()))"
   ]
  },
  {
   "cell_type": "code",
   "execution_count": 65,
   "metadata": {},
   "outputs": [],
   "source": [
    "xtrain , xtest = train_test_split(X, test_size = 0.3)"
   ]
  },
  {
   "cell_type": "code",
   "execution_count": 66,
   "metadata": {},
   "outputs": [],
   "source": [
    "f1 = \"hue\"\n",
    "f2 = \"proline\"\n",
    "\n",
    "basex = np.array(xtrain[[f1,f2]])\n",
    "\n",
    "xtest = np.array(xtest[[f1,f2]])"
   ]
  },
  {
   "cell_type": "code",
   "execution_count": 67,
   "metadata": {},
   "outputs": [],
   "source": [
    "centroids, classifications = fit(basex,k,max_iter,cent_change)"
   ]
  },
  {
   "cell_type": "code",
   "execution_count": null,
   "metadata": {},
   "outputs": [],
   "source": []
  },
  {
   "cell_type": "code",
   "execution_count": null,
   "metadata": {},
   "outputs": [],
   "source": []
  }
 ],
 "metadata": {
  "kernelspec": {
   "display_name": "Python 3",
   "language": "python",
   "name": "python3"
  },
  "language_info": {
   "codemirror_mode": {
    "name": "ipython",
    "version": 3
   },
   "file_extension": ".py",
   "mimetype": "text/x-python",
   "name": "python",
   "nbconvert_exporter": "python",
   "pygments_lexer": "ipython3",
   "version": "3.7.1"
  }
 },
 "nbformat": 4,
 "nbformat_minor": 2
}

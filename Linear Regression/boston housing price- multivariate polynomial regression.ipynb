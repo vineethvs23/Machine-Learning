{
 "cells": [
  {
   "cell_type": "code",
   "execution_count": null,
   "metadata": {},
   "outputs": [],
   "source": [
    "import numpy as np\n",
    "import matplotlib.pyplot as plt\n",
    "import pandas as pd\n",
    "from sklearn.datasets import load_boston\n",
    "from sklearn.model_selection import train_test_split\n",
    "\n",
    "%matplotlib inline"
   ]
  },
  {
   "cell_type": "code",
   "execution_count": null,
   "metadata": {},
   "outputs": [],
   "source": [
    "boston = load_boston()"
   ]
  },
  {
   "cell_type": "code",
   "execution_count": null,
   "metadata": {},
   "outputs": [],
   "source": [
    "features = pd.DataFrame(boston.data, columns=boston.feature_names)\n",
    "target = pd.DataFrame(boston.target, columns=['TARGET'])"
   ]
  },
  {
   "cell_type": "code",
   "execution_count": null,
   "metadata": {},
   "outputs": [],
   "source": [
    "data = pd.concat([features, target], axis=1)"
   ]
  },
  {
   "cell_type": "code",
   "execution_count": null,
   "metadata": {},
   "outputs": [],
   "source": [
    "print(boston.DESCR)"
   ]
  },
  {
   "cell_type": "code",
   "execution_count": null,
   "metadata": {},
   "outputs": [],
   "source": [
    "data.head(10)"
   ]
  },
  {
   "cell_type": "code",
   "execution_count": null,
   "metadata": {},
   "outputs": [],
   "source": [
    "X = data['RM']\n",
    "Z = data['LSTAT']\n",
    "Y = data['TARGET']"
   ]
  },
  {
   "cell_type": "code",
   "execution_count": null,
   "metadata": {},
   "outputs": [],
   "source": [
    "x = np.array(X/X.mean())\n",
    "z = np.array(Z/Z.mean())\n",
    "y = np.array(Y/Y.mean())"
   ]
  },
  {
   "cell_type": "code",
   "execution_count": null,
   "metadata": {},
   "outputs": [],
   "source": [
    "x_train, x_test, z_train, z_test, y_train, y_test = train_test_split(x,z,y,test_size = 0.2)"
   ]
  },
  {
   "cell_type": "code",
   "execution_count": null,
   "metadata": {},
   "outputs": [],
   "source": [
    "def hypothesis(a,b,c,d,x,z):\n",
    "    return  (a * x + b * np.exp(-z * c) + d )"
   ]
  },
  {
   "cell_type": "code",
   "execution_count": null,
   "metadata": {},
   "outputs": [],
   "source": [
    "def error(a,b,c,d,x,z,y):\n",
    "    e = 0\n",
    "    m = len(x)\n",
    "    for i in range(m):\n",
    "        e += np.power((hypothesis(a,b,c,d,x[i],z[i]) - y[i]), 2)\n",
    "    \n",
    "    return (1/(2*m)) * e"
   ]
  },
  {
   "cell_type": "code",
   "execution_count": null,
   "metadata": {},
   "outputs": [],
   "source": [
    "def step_gradient(a,b,c,d,x,z,y,learning_rate):\n",
    "    grad_a = 0\n",
    "    grad_b = 0\n",
    "    grad_c = 0\n",
    "    grad_d = 0\n",
    "    m = len(x)\n",
    "    for i in range(m):\n",
    "        grad_a += 1/m * (hypothesis(a,b,c,d,x[i],z[i]) - y[i]) * x[i]\n",
    "        grad_b += 1/m * (hypothesis(a,b,c,d,x[i],z[i]) - y[i]) * (np.exp(-c * z[i]))\n",
    "        grad_c += 1/m * (hypothesis(a,b,c,d,x[i],z[i]) - y[i]) * (b * np.exp(-c * z[i]) * -z[i])\n",
    "        grad_d += 1/m * (hypothesis(a,b,c,d,x[i],z[i]) - y[i])\n",
    "    a = a - (grad_a * learning_rate)\n",
    "    b = b - (grad_b * learning_rate)\n",
    "    c = c - (grad_c * learning_rate)\n",
    "    d = d - (grad_d * learning_rate)\n",
    "    \n",
    "    return a, b, c, d"
   ]
  },
  {
   "cell_type": "code",
   "execution_count": null,
   "metadata": {},
   "outputs": [],
   "source": [
    "def descend(initial_a, initial_b, initial_c,initial_d, x, z, y, learning_rate, iterations):\n",
    "    a = initial_a\n",
    "    b = initial_b\n",
    "    c = initial_c\n",
    "    d = initial_d\n",
    "    for i in range(iterations):\n",
    "        e = error(a, b, c, d, x, z, y)\n",
    "        if i % 1000 == 0:\n",
    "            print(f\"Error: {np.sqrt(e)}, a: {a}, b: {b}, c: {c}, d:{d}\")\n",
    "        \n",
    "        a, b, c,d = step_gradient(a, b, c,d, x, z, y, learning_rate)\n",
    "\n",
    "    return a, b, c,d"
   ]
  },
  {
   "cell_type": "code",
   "execution_count": null,
   "metadata": {
    "scrolled": true
   },
   "outputs": [],
   "source": [
    "# final_a = 0\n",
    "# final_b = 1\n",
    "# final_c = 1\n",
    "# final_d = 1\n",
    "learning_rate = 0.01\n",
    "iterations = 10000\n",
    "\n",
    "final_a, final_b, final_c, final_d = descend(final_a, final_b, final_c,final_d, x_train, z_train, y_train, learning_rate, iterations)\n"
   ]
  },
  {
   "cell_type": "code",
   "execution_count": null,
   "metadata": {},
   "outputs": [],
   "source": [
    "from mpl_toolkits.mplot3d import Axes3D\n",
    "\n",
    "fig = plt.figure()\n",
    "ax = Axes3D(fig)\n",
    "ax.view_init(45,45)\n",
    "ax.plot(z_train,x_train,y_train,\"b.\")\n",
    "ax.plot(z_train,x_train,hypothesis(final_a,final_b,final_c,x_train,z_train),\"g.\")"
   ]
  },
  {
   "cell_type": "code",
   "execution_count": null,
   "metadata": {},
   "outputs": [],
   "source": []
  }
 ],
 "metadata": {
  "kernelspec": {
   "display_name": "Python 3",
   "language": "python",
   "name": "python3"
  },
  "language_info": {
   "codemirror_mode": {
    "name": "ipython",
    "version": 3
   },
   "file_extension": ".py",
   "mimetype": "text/x-python",
   "name": "python",
   "nbconvert_exporter": "python",
   "pygments_lexer": "ipython3",
   "version": "3.7.1"
  }
 },
 "nbformat": 4,
 "nbformat_minor": 2
}

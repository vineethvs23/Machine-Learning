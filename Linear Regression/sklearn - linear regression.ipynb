{
 "cells": [
  {
   "cell_type": "code",
   "execution_count": 1,
   "metadata": {},
   "outputs": [],
   "source": [
    "import numpy as np\n",
    "import pandas as pd\n",
    "import matplotlib.pyplot as plt\n",
    "from sklearn.datasets import load_boston\n",
    "from sklearn.model_selection import train_test_split\n",
    "\n",
    "%matplotlib inline"
   ]
  },
  {
   "cell_type": "code",
   "execution_count": null,
   "metadata": {},
   "outputs": [],
   "source": []
  },
  {
   "cell_type": "code",
   "execution_count": 2,
   "metadata": {},
   "outputs": [],
   "source": [
    "boston = load_boston()"
   ]
  },
  {
   "cell_type": "code",
   "execution_count": 3,
   "metadata": {},
   "outputs": [],
   "source": [
    "features = pd.DataFrame(boston.data, columns = boston.feature_names)\n",
    "target = pd.DataFrame(boston.target, columns=[\"TARGET\"])"
   ]
  },
  {
   "cell_type": "code",
   "execution_count": 4,
   "metadata": {},
   "outputs": [],
   "source": [
    "data = pd.concat([features, target], axis = 1)"
   ]
  },
  {
   "cell_type": "code",
   "execution_count": 22,
   "metadata": {},
   "outputs": [],
   "source": [
    "X = data[\"RM\"]\n",
    "Y = data['TARGET']"
   ]
  },
  {
   "cell_type": "code",
   "execution_count": 23,
   "metadata": {},
   "outputs": [],
   "source": [
    "X = np.array(X)\n",
    "Y = np.array(Y)"
   ]
  },
  {
   "cell_type": "code",
   "execution_count": 24,
   "metadata": {},
   "outputs": [],
   "source": [
    "X = X.reshape(-1,1)\n",
    "Y = Y.reshape(-1,1)"
   ]
  },
  {
   "cell_type": "code",
   "execution_count": 25,
   "metadata": {},
   "outputs": [],
   "source": [
    "from sklearn.preprocessing import MinMaxScaler"
   ]
  },
  {
   "cell_type": "code",
   "execution_count": 26,
   "metadata": {},
   "outputs": [],
   "source": [
    "scaler = MinMaxScaler()"
   ]
  },
  {
   "cell_type": "code",
   "execution_count": 28,
   "metadata": {},
   "outputs": [],
   "source": [
    "x = scaler.fit_transform(X)\n",
    "y = scaler.fit_transform(Y)\n"
   ]
  },
  {
   "cell_type": "code",
   "execution_count": 29,
   "metadata": {},
   "outputs": [
    {
     "data": {
      "text/plain": [
       "[<matplotlib.lines.Line2D at 0x227e1d056d8>]"
      ]
     },
     "execution_count": 29,
     "metadata": {},
     "output_type": "execute_result"
    },
    {
     "data": {
      "image/png": "[encoded data removed]",
      "text/plain": [
       "<Figure size 432x288 with 1 Axes>"
      ]
     },
     "metadata": {
      "needs_background": "light"
     },
     "output_type": "display_data"
    }
   ],
   "source": [
    "plt.plot(x,y,\"r.\")"
   ]
  },
  {
   "cell_type": "code",
   "execution_count": 30,
   "metadata": {},
   "outputs": [],
   "source": [
    "x_train,x_test,y_train,y_test = train_test_split(x,y,test_size = 0.2)"
   ]
  },
  {
   "cell_type": "code",
   "execution_count": 38,
   "metadata": {},
   "outputs": [],
   "source": [
    "from sklearn.linear_model import LinearRegression\n",
    "from sklearn.metrics import mean_squared_error,r2_score"
   ]
  },
  {
   "cell_type": "code",
   "execution_count": 39,
   "metadata": {},
   "outputs": [],
   "source": [
    "regressor = LinearRegression()"
   ]
  },
  {
   "cell_type": "code",
   "execution_count": 40,
   "metadata": {},
   "outputs": [
    {
     "data": {
      "text/plain": [
       "LinearRegression(copy_X=True, fit_intercept=True, n_jobs=None,\n",
       "         normalize=False)"
      ]
     },
     "execution_count": 40,
     "metadata": {},
     "output_type": "execute_result"
    }
   ],
   "source": [
    "regressor.fit(x_train,y_train)"
   ]
  },
  {
   "cell_type": "code",
   "execution_count": 41,
   "metadata": {},
   "outputs": [],
   "source": [
    "y_pred = regressor.predict(x_test)"
   ]
  },
  {
   "cell_type": "code",
   "execution_count": 37,
   "metadata": {},
   "outputs": [
    {
     "name": "stdout",
     "output_type": "stream",
     "text": [
      "(array([0.41159507]), array([0.26888889]))\n",
      "(array([0.31245421]), array([0.30666667]))\n",
      "(array([0.35609228]), array([0.19555556]))\n",
      "(array([0.4709187]), array([0.25333333]))\n",
      "(array([0.40536106]), array([0.51333333]))\n",
      "(array([0.29998619]), array([0.32222222]))\n",
      "(array([0.41702469]), array([0.43333333]))\n",
      "(array([0.36353287]), array([0.39777778]))\n",
      "(array([0.36654932]), array([0.44444444]))\n",
      "(array([0.79186963]), array([1.]))\n",
      "(array([0.13126575]), array([0.22888889]))\n",
      "(array([0.37861515]), array([0.4]))\n",
      "(array([0.38826781]), array([0.41111111]))\n",
      "(array([0.30481252]), array([1.]))\n",
      "(array([0.25051631]), array([0.3]))\n",
      "(array([0.51958419]), array([0.80666667]))\n",
      "(array([0.36051641]), array([0.23555556]))\n",
      "(array([0.32311236]), array([0.43777778]))\n",
      "(array([0.35548898]), array([0.42]))\n",
      "(array([0.34442865]), array([0.21111111]))\n",
      "(array([0.38042502]), array([0.33111111]))\n",
      "(array([0.28208855]), array([0.37333333]))\n",
      "(array([0.57850564]), array([0.69111111]))\n",
      "(array([0.23342306]), array([0.16222222]))\n",
      "(array([0.53386209]), array([0.57111111]))\n",
      "(array([0.30762788]), array([0.37111111]))\n",
      "(array([0.35548898]), array([0.39333333]))\n",
      "(array([0.12281967]), array([1.]))\n",
      "(array([0.1139714]), array([0.21333333]))\n",
      "(array([0.30742679]), array([0.40666667]))\n",
      "(array([0.27082712]), array([0.26888889]))\n",
      "(array([0.42788393]), array([0.43111111]))\n",
      "(array([0.43271026]), array([0.44444444]))\n",
      "(array([0.05404448]), array([0.28666667]))\n",
      "(array([0.3542824]), array([0.38222222]))\n",
      "(array([0.57951112]), array([0.61555556]))\n",
      "(array([0.81218043]), array([0.97333333]))\n",
      "(array([0.45181448]), array([0.40666667]))\n",
      "(array([0.3066224]), array([0.30222222]))\n",
      "(array([0.33598257]), array([0.25777778]))\n",
      "(array([0.31265531]), array([0.28444444]))\n",
      "(array([0.48962073]), array([0.37777778]))\n",
      "(array([0.45905398]), array([0.52666667]))\n",
      "(array([0.4439717]), array([0.41777778]))\n",
      "(array([0.57247272]), array([0.7]))\n",
      "(array([0.3955073]), array([0.43111111]))\n",
      "(array([0.25695142]), array([0.20666667]))\n",
      "(array([0.52461162]), array([0.12]))\n",
      "(array([0.58876159]), array([0.62888889]))\n",
      "(array([0.35287472]), array([0.31333333]))\n",
      "(array([0.53929171]), array([0.53333333]))\n",
      "(array([0.33175953]), array([0.30888889]))\n",
      "(array([0.36051641]), array([0.08222222]))\n",
      "(array([0.32793869]), array([0.27777778]))\n",
      "(array([0.48720757]), array([0.05555556]))\n",
      "(array([0.38002283]), array([0.34666667]))\n",
      "(array([0.39993144]), array([0.21111111]))\n",
      "(array([0.41380714]), array([0.39111111]))\n",
      "(array([0.19903546]), array([0.07333333]))\n",
      "(array([0.49565364]), array([0.07555556]))\n",
      "(array([0.3271343]), array([0.36444444]))\n",
      "(array([0.78563562]), array([0.88444444]))\n",
      "(array([0.25514155]), array([0.23555556]))\n",
      "(array([0.41662249]), array([0.28888889]))\n",
      "(array([0.52702479]), array([0.55111111]))\n",
      "(array([0.2722348]), array([0.17111111]))\n",
      "(array([0.71665932]), array([1.]))\n",
      "(array([0.22055285]), array([0.33777778]))\n",
      "(array([0.27786552]), array([0.30444444]))\n",
      "(array([0.65371594]), array([0.82888889]))\n",
      "(array([0.24388011]), array([0.40222222]))\n",
      "(array([0.409383]), array([0.37111111]))\n",
      "(array([0.52239955]), array([0.54666667]))\n",
      "(array([0.30159497]), array([0.39111111]))\n",
      "(array([0.37177785]), array([0.14888889]))\n",
      "(array([0.31466628]), array([0.23555556]))\n",
      "(array([0.37398992]), array([0.29777778]))\n",
      "(array([0.3747943]), array([0.11555556]))\n",
      "(array([0.30581801]), array([0.31333333]))\n",
      "(array([0.2861105]), array([0.32888889]))\n",
      "(array([0.49404487]), array([0.59111111]))\n",
      "(array([0.53426428]), array([1.]))\n",
      "(array([0.30803008]), array([0.39111111]))\n",
      "(array([0.40817642]), array([0.42]))\n",
      "(array([0.18455648]), array([0.04888889]))\n",
      "(array([0.50128436]), array([0.5]))\n",
      "(array([0.44859693]), array([0.37777778]))\n",
      "(array([0.40636654]), array([0.18]))\n",
      "(array([0.32612881]), array([0.42888889]))\n",
      "(array([0.34925498]), array([0.29333333]))\n",
      "(array([0.43371574]), array([0.40222222]))\n",
      "(array([0.43250916]), array([0.40666667]))\n",
      "(array([0.41883456]), array([0.39777778]))\n",
      "(array([0.6356172]), array([0.84666667]))\n",
      "(array([0.41119287]), array([0.15777778]))\n",
      "(array([0.45141229]), array([0.53555556]))\n",
      "(array([0.45422765]), array([0.55777778]))\n",
      "(array([0.51877981]), array([0.48]))\n",
      "(array([0.37057127]), array([0.13111111]))\n",
      "(array([0.16625664]), array([0.28444444]))\n",
      "(array([0.69815839]), array([1.]))\n",
      "(array([0.30119278]), array([0.18444444]))\n"
     ]
    }
   ],
   "source": [
    "for i in zip(y_pred,y_test):\n",
    "    print(i)"
   ]
  },
  {
   "cell_type": "code",
   "execution_count": 42,
   "metadata": {},
   "outputs": [
    {
     "data": {
      "text/plain": [
       "0.032948773832753894"
      ]
     },
     "execution_count": 42,
     "metadata": {},
     "output_type": "execute_result"
    }
   ],
   "source": [
    "mean_squared_error(y_pred,y_test)"
   ]
  },
  {
   "cell_type": "code",
   "execution_count": 51,
   "metadata": {},
   "outputs": [
    {
     "data": {
      "text/plain": [
       "Text(0.5, 0, 'RM')"
      ]
     },
     "execution_count": 51,
     "metadata": {},
     "output_type": "execute_result"
    },
    {
     "data": {
      "image/png": "[encoded data removed]",
      "text/plain": [
       "<Figure size 432x288 with 1 Axes>"
      ]
     },
     "metadata": {
      "needs_background": "light"
     },
     "output_type": "display_data"
    }
   ],
   "source": [
    "plt.scatter(x_train,y_train,color = 'red')\n",
    "plt.plot(x_train,regressor.predict(x_train),'b')\n",
    "\n",
    "plt.title(\"Linear regression(train)\")\n",
    "plt.ylabel(\"target\")\n",
    "plt.xlabel(\"RM\")"
   ]
  },
  {
   "cell_type": "code",
   "execution_count": 52,
   "metadata": {},
   "outputs": [
    {
     "data": {
      "text/plain": [
       "Text(0.5, 0, 'RM')"
      ]
     },
     "execution_count": 52,
     "metadata": {},
     "output_type": "execute_result"
    },
    {
     "data": {
      "image/png": "[encoded data removed]",
      "text/plain": [
       "<Figure size 432x288 with 1 Axes>"
      ]
     },
     "metadata": {
      "needs_background": "light"
     },
     "output_type": "display_data"
    }
   ],
   "source": [
    "plt.scatter(x_test,y_test,color = 'red')\n",
    "plt.plot(x_test,regressor.predict(x_test),'b')\n",
    "\n",
    "plt.title(\"Linear regression(test)\")\n",
    "plt.ylabel(\"target\")\n",
    "plt.xlabel(\"RM\")"
   ]
  },
  {
   "cell_type": "code",
   "execution_count": 54,
   "metadata": {},
   "outputs": [
    {
     "data": {
      "text/plain": [
       "0.3808829201392816"
      ]
     },
     "execution_count": 54,
     "metadata": {},
     "output_type": "execute_result"
    }
   ],
   "source": [
    "r2_score(y_test,y_pred)#the points fit by model"
   ]
  },
  {
   "cell_type": "code",
   "execution_count": null,
   "metadata": {},
   "outputs": [],
   "source": []
  }
 ],
 "metadata": {
  "kernelspec": {
   "display_name": "Python 3",
   "language": "python",
   "name": "python3"
  },
  "language_info": {
   "codemirror_mode": {
    "name": "ipython",
    "version": 3
   },
   "file_extension": ".py",
   "mimetype": "text/x-python",
   "name": "python",
   "nbconvert_exporter": "python",
   "pygments_lexer": "ipython3",
   "version": "3.7.1"
  }
 },
 "nbformat": 4,
 "nbformat_minor": 2
}
